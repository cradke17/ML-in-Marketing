{
 "cells": [
  {
   "cell_type": "code",
   "execution_count": 1,
   "id": "37d568bb",
   "metadata": {},
   "outputs": [],
   "source": [
    "import pandas as pd\n",
    "path = \"/Users/charlie/Documents/CSE512/Project/clt_train.csv\"\n",
    "ctr_df = pd.read_csv(path)"
   ]
  },
  {
   "cell_type": "code",
   "execution_count": 2,
   "id": "9e6b2e98",
   "metadata": {},
   "outputs": [
    {
     "data": {
      "text/plain": [
       "(40428967, 24)"
      ]
     },
     "execution_count": 2,
     "metadata": {},
     "output_type": "execute_result"
    }
   ],
   "source": [
    "ctr_df.shape"
   ]
  },
  {
   "cell_type": "code",
   "execution_count": 3,
   "id": "6ad91a32",
   "metadata": {},
   "outputs": [],
   "source": [
    "import numpy as np\n",
    "ctr_sample = ctr_df.sample(n = 100000)"
   ]
  },
  {
   "cell_type": "code",
   "execution_count": 4,
   "id": "d0fd7aa6",
   "metadata": {},
   "outputs": [],
   "source": [
    "import warnings\n",
    "warnings.filterwarnings('ignore')"
   ]
  },
  {
   "cell_type": "code",
   "execution_count": 5,
   "id": "c430c535",
   "metadata": {},
   "outputs": [
    {
     "data": {
      "text/html": [
       "<div>\n",
       "<style scoped>\n",
       "    .dataframe tbody tr th:only-of-type {\n",
       "        vertical-align: middle;\n",
       "    }\n",
       "\n",
       "    .dataframe tbody tr th {\n",
       "        vertical-align: top;\n",
       "    }\n",
       "\n",
       "    .dataframe thead th {\n",
       "        text-align: right;\n",
       "    }\n",
       "</style>\n",
       "<table border=\"1\" class=\"dataframe\">\n",
       "  <thead>\n",
       "    <tr style=\"text-align: right;\">\n",
       "      <th></th>\n",
       "      <th>id</th>\n",
       "      <th>click</th>\n",
       "      <th>hour</th>\n",
       "      <th>C1</th>\n",
       "      <th>banner_pos</th>\n",
       "      <th>site_id</th>\n",
       "      <th>site_domain</th>\n",
       "      <th>site_category</th>\n",
       "      <th>app_id</th>\n",
       "      <th>app_domain</th>\n",
       "      <th>...</th>\n",
       "      <th>device_type</th>\n",
       "      <th>device_conn_type</th>\n",
       "      <th>C14</th>\n",
       "      <th>C15</th>\n",
       "      <th>C16</th>\n",
       "      <th>C17</th>\n",
       "      <th>C18</th>\n",
       "      <th>C19</th>\n",
       "      <th>C20</th>\n",
       "      <th>C21</th>\n",
       "    </tr>\n",
       "  </thead>\n",
       "  <tbody>\n",
       "    <tr>\n",
       "      <th>32951389</th>\n",
       "      <td>9.033480e+18</td>\n",
       "      <td>0</td>\n",
       "      <td>14102903</td>\n",
       "      <td>1005</td>\n",
       "      <td>1</td>\n",
       "      <td>b7e9786d</td>\n",
       "      <td>b12b9f85</td>\n",
       "      <td>f028772b</td>\n",
       "      <td>ecad2386</td>\n",
       "      <td>7801e8d9</td>\n",
       "      <td>...</td>\n",
       "      <td>1</td>\n",
       "      <td>0</td>\n",
       "      <td>22682</td>\n",
       "      <td>320</td>\n",
       "      <td>50</td>\n",
       "      <td>2528</td>\n",
       "      <td>0</td>\n",
       "      <td>39</td>\n",
       "      <td>100075</td>\n",
       "      <td>221</td>\n",
       "    </tr>\n",
       "    <tr>\n",
       "      <th>3607488</th>\n",
       "      <td>6.498505e+18</td>\n",
       "      <td>0</td>\n",
       "      <td>14102118</td>\n",
       "      <td>1005</td>\n",
       "      <td>0</td>\n",
       "      <td>85f751fd</td>\n",
       "      <td>c4e18dd6</td>\n",
       "      <td>50e219e0</td>\n",
       "      <td>a4869716</td>\n",
       "      <td>2347f47a</td>\n",
       "      <td>...</td>\n",
       "      <td>1</td>\n",
       "      <td>3</td>\n",
       "      <td>20476</td>\n",
       "      <td>320</td>\n",
       "      <td>50</td>\n",
       "      <td>2348</td>\n",
       "      <td>3</td>\n",
       "      <td>427</td>\n",
       "      <td>100005</td>\n",
       "      <td>61</td>\n",
       "    </tr>\n",
       "    <tr>\n",
       "      <th>21348848</th>\n",
       "      <td>1.528705e+19</td>\n",
       "      <td>0</td>\n",
       "      <td>14102609</td>\n",
       "      <td>1005</td>\n",
       "      <td>0</td>\n",
       "      <td>1fbe01fe</td>\n",
       "      <td>f3845767</td>\n",
       "      <td>28905ebd</td>\n",
       "      <td>ecad2386</td>\n",
       "      <td>7801e8d9</td>\n",
       "      <td>...</td>\n",
       "      <td>1</td>\n",
       "      <td>0</td>\n",
       "      <td>15701</td>\n",
       "      <td>320</td>\n",
       "      <td>50</td>\n",
       "      <td>1722</td>\n",
       "      <td>0</td>\n",
       "      <td>35</td>\n",
       "      <td>-1</td>\n",
       "      <td>79</td>\n",
       "    </tr>\n",
       "    <tr>\n",
       "      <th>18426518</th>\n",
       "      <td>7.694841e+18</td>\n",
       "      <td>0</td>\n",
       "      <td>14102513</td>\n",
       "      <td>1010</td>\n",
       "      <td>1</td>\n",
       "      <td>85f751fd</td>\n",
       "      <td>c4e18dd6</td>\n",
       "      <td>50e219e0</td>\n",
       "      <td>495d447f</td>\n",
       "      <td>7801e8d9</td>\n",
       "      <td>...</td>\n",
       "      <td>4</td>\n",
       "      <td>3</td>\n",
       "      <td>22406</td>\n",
       "      <td>320</td>\n",
       "      <td>50</td>\n",
       "      <td>2583</td>\n",
       "      <td>0</td>\n",
       "      <td>171</td>\n",
       "      <td>100228</td>\n",
       "      <td>108</td>\n",
       "    </tr>\n",
       "    <tr>\n",
       "      <th>11666418</th>\n",
       "      <td>9.018048e+18</td>\n",
       "      <td>0</td>\n",
       "      <td>14102312</td>\n",
       "      <td>1002</td>\n",
       "      <td>0</td>\n",
       "      <td>85f751fd</td>\n",
       "      <td>c4e18dd6</td>\n",
       "      <td>50e219e0</td>\n",
       "      <td>9f41cdad</td>\n",
       "      <td>7801e8d9</td>\n",
       "      <td>...</td>\n",
       "      <td>0</td>\n",
       "      <td>0</td>\n",
       "      <td>6992</td>\n",
       "      <td>320</td>\n",
       "      <td>50</td>\n",
       "      <td>613</td>\n",
       "      <td>2</td>\n",
       "      <td>39</td>\n",
       "      <td>100233</td>\n",
       "      <td>32</td>\n",
       "    </tr>\n",
       "  </tbody>\n",
       "</table>\n",
       "<p>5 rows × 24 columns</p>\n",
       "</div>"
      ],
      "text/plain": [
       "                    id  click      hour    C1  banner_pos   site_id  \\\n",
       "32951389  9.033480e+18      0  14102903  1005           1  b7e9786d   \n",
       "3607488   6.498505e+18      0  14102118  1005           0  85f751fd   \n",
       "21348848  1.528705e+19      0  14102609  1005           0  1fbe01fe   \n",
       "18426518  7.694841e+18      0  14102513  1010           1  85f751fd   \n",
       "11666418  9.018048e+18      0  14102312  1002           0  85f751fd   \n",
       "\n",
       "         site_domain site_category    app_id app_domain  ... device_type  \\\n",
       "32951389    b12b9f85      f028772b  ecad2386   7801e8d9  ...           1   \n",
       "3607488     c4e18dd6      50e219e0  a4869716   2347f47a  ...           1   \n",
       "21348848    f3845767      28905ebd  ecad2386   7801e8d9  ...           1   \n",
       "18426518    c4e18dd6      50e219e0  495d447f   7801e8d9  ...           4   \n",
       "11666418    c4e18dd6      50e219e0  9f41cdad   7801e8d9  ...           0   \n",
       "\n",
       "         device_conn_type    C14  C15  C16   C17  C18  C19     C20  C21  \n",
       "32951389                0  22682  320   50  2528    0   39  100075  221  \n",
       "3607488                 3  20476  320   50  2348    3  427  100005   61  \n",
       "21348848                0  15701  320   50  1722    0   35      -1   79  \n",
       "18426518                3  22406  320   50  2583    0  171  100228  108  \n",
       "11666418                0   6992  320   50   613    2   39  100233   32  \n",
       "\n",
       "[5 rows x 24 columns]"
      ]
     },
     "execution_count": 5,
     "metadata": {},
     "output_type": "execute_result"
    }
   ],
   "source": [
    "ctr_sample.head()"
   ]
  },
  {
   "cell_type": "code",
   "execution_count": 6,
   "id": "d5063f48",
   "metadata": {},
   "outputs": [
    {
     "data": {
      "text/plain": [
       "(100000, 24)"
      ]
     },
     "execution_count": 6,
     "metadata": {},
     "output_type": "execute_result"
    }
   ],
   "source": [
    "ctr_df = ctr_sample\n",
    "ctr_df.shape"
   ]
  },
  {
   "cell_type": "code",
   "execution_count": 7,
   "id": "7737d2ca",
   "metadata": {},
   "outputs": [
    {
     "data": {
      "text/plain": [
       "Index(['id', 'click', 'hour', 'C1', 'banner_pos', 'site_id', 'site_domain',\n",
       "       'site_category', 'app_id', 'app_domain', 'app_category', 'device_id',\n",
       "       'device_ip', 'device_model', 'device_type', 'device_conn_type', 'C14',\n",
       "       'C15', 'C16', 'C17', 'C18', 'C19', 'C20', 'C21'],\n",
       "      dtype='object')"
      ]
     },
     "execution_count": 7,
     "metadata": {},
     "output_type": "execute_result"
    }
   ],
   "source": [
    "ctr_df.columns"
   ]
  },
  {
   "cell_type": "code",
   "execution_count": 8,
   "id": "769ee9a3",
   "metadata": {},
   "outputs": [
    {
     "ename": "KeyError",
     "evalue": "'site_id_int'",
     "output_type": "error",
     "traceback": [
      "\u001b[0;31m---------------------------------------------------------------------------\u001b[0m",
      "\u001b[0;31mKeyError\u001b[0m                                  Traceback (most recent call last)",
      "\u001b[0;32m/opt/anaconda3/lib/python3.8/site-packages/pandas/core/indexes/base.py\u001b[0m in \u001b[0;36mget_loc\u001b[0;34m(self, key, method, tolerance)\u001b[0m\n\u001b[1;32m   3079\u001b[0m             \u001b[0;32mtry\u001b[0m\u001b[0;34m:\u001b[0m\u001b[0;34m\u001b[0m\u001b[0;34m\u001b[0m\u001b[0m\n\u001b[0;32m-> 3080\u001b[0;31m                 \u001b[0;32mreturn\u001b[0m \u001b[0mself\u001b[0m\u001b[0;34m.\u001b[0m\u001b[0m_engine\u001b[0m\u001b[0;34m.\u001b[0m\u001b[0mget_loc\u001b[0m\u001b[0;34m(\u001b[0m\u001b[0mcasted_key\u001b[0m\u001b[0;34m)\u001b[0m\u001b[0;34m\u001b[0m\u001b[0;34m\u001b[0m\u001b[0m\n\u001b[0m\u001b[1;32m   3081\u001b[0m             \u001b[0;32mexcept\u001b[0m \u001b[0mKeyError\u001b[0m \u001b[0;32mas\u001b[0m \u001b[0merr\u001b[0m\u001b[0;34m:\u001b[0m\u001b[0;34m\u001b[0m\u001b[0;34m\u001b[0m\u001b[0m\n",
      "\u001b[0;32mpandas/_libs/index.pyx\u001b[0m in \u001b[0;36mpandas._libs.index.IndexEngine.get_loc\u001b[0;34m()\u001b[0m\n",
      "\u001b[0;32mpandas/_libs/index.pyx\u001b[0m in \u001b[0;36mpandas._libs.index.IndexEngine.get_loc\u001b[0;34m()\u001b[0m\n",
      "\u001b[0;32mpandas/_libs/hashtable_class_helper.pxi\u001b[0m in \u001b[0;36mpandas._libs.hashtable.PyObjectHashTable.get_item\u001b[0;34m()\u001b[0m\n",
      "\u001b[0;32mpandas/_libs/hashtable_class_helper.pxi\u001b[0m in \u001b[0;36mpandas._libs.hashtable.PyObjectHashTable.get_item\u001b[0;34m()\u001b[0m\n",
      "\u001b[0;31mKeyError\u001b[0m: 'site_id_int'",
      "\nThe above exception was the direct cause of the following exception:\n",
      "\u001b[0;31mKeyError\u001b[0m                                  Traceback (most recent call last)",
      "\u001b[0;32m<ipython-input-8-a812d2c63668>\u001b[0m in \u001b[0;36m<module>\u001b[0;34m\u001b[0m\n\u001b[0;32m----> 1\u001b[0;31m \u001b[0mlen\u001b[0m\u001b[0;34m(\u001b[0m\u001b[0mctr_df\u001b[0m\u001b[0;34m[\u001b[0m\u001b[0;34m'site_id_int'\u001b[0m\u001b[0;34m]\u001b[0m\u001b[0;34m.\u001b[0m\u001b[0munique\u001b[0m\u001b[0;34m(\u001b[0m\u001b[0;34m)\u001b[0m\u001b[0;34m)\u001b[0m\u001b[0;34m\u001b[0m\u001b[0;34m\u001b[0m\u001b[0m\n\u001b[0m",
      "\u001b[0;32m/opt/anaconda3/lib/python3.8/site-packages/pandas/core/frame.py\u001b[0m in \u001b[0;36m__getitem__\u001b[0;34m(self, key)\u001b[0m\n\u001b[1;32m   3022\u001b[0m             \u001b[0;32mif\u001b[0m \u001b[0mself\u001b[0m\u001b[0;34m.\u001b[0m\u001b[0mcolumns\u001b[0m\u001b[0;34m.\u001b[0m\u001b[0mnlevels\u001b[0m \u001b[0;34m>\u001b[0m \u001b[0;36m1\u001b[0m\u001b[0;34m:\u001b[0m\u001b[0;34m\u001b[0m\u001b[0;34m\u001b[0m\u001b[0m\n\u001b[1;32m   3023\u001b[0m                 \u001b[0;32mreturn\u001b[0m \u001b[0mself\u001b[0m\u001b[0;34m.\u001b[0m\u001b[0m_getitem_multilevel\u001b[0m\u001b[0;34m(\u001b[0m\u001b[0mkey\u001b[0m\u001b[0;34m)\u001b[0m\u001b[0;34m\u001b[0m\u001b[0;34m\u001b[0m\u001b[0m\n\u001b[0;32m-> 3024\u001b[0;31m             \u001b[0mindexer\u001b[0m \u001b[0;34m=\u001b[0m \u001b[0mself\u001b[0m\u001b[0;34m.\u001b[0m\u001b[0mcolumns\u001b[0m\u001b[0;34m.\u001b[0m\u001b[0mget_loc\u001b[0m\u001b[0;34m(\u001b[0m\u001b[0mkey\u001b[0m\u001b[0;34m)\u001b[0m\u001b[0;34m\u001b[0m\u001b[0;34m\u001b[0m\u001b[0m\n\u001b[0m\u001b[1;32m   3025\u001b[0m             \u001b[0;32mif\u001b[0m \u001b[0mis_integer\u001b[0m\u001b[0;34m(\u001b[0m\u001b[0mindexer\u001b[0m\u001b[0;34m)\u001b[0m\u001b[0;34m:\u001b[0m\u001b[0;34m\u001b[0m\u001b[0;34m\u001b[0m\u001b[0m\n\u001b[1;32m   3026\u001b[0m                 \u001b[0mindexer\u001b[0m \u001b[0;34m=\u001b[0m \u001b[0;34m[\u001b[0m\u001b[0mindexer\u001b[0m\u001b[0;34m]\u001b[0m\u001b[0;34m\u001b[0m\u001b[0;34m\u001b[0m\u001b[0m\n",
      "\u001b[0;32m/opt/anaconda3/lib/python3.8/site-packages/pandas/core/indexes/base.py\u001b[0m in \u001b[0;36mget_loc\u001b[0;34m(self, key, method, tolerance)\u001b[0m\n\u001b[1;32m   3080\u001b[0m                 \u001b[0;32mreturn\u001b[0m \u001b[0mself\u001b[0m\u001b[0;34m.\u001b[0m\u001b[0m_engine\u001b[0m\u001b[0;34m.\u001b[0m\u001b[0mget_loc\u001b[0m\u001b[0;34m(\u001b[0m\u001b[0mcasted_key\u001b[0m\u001b[0;34m)\u001b[0m\u001b[0;34m\u001b[0m\u001b[0;34m\u001b[0m\u001b[0m\n\u001b[1;32m   3081\u001b[0m             \u001b[0;32mexcept\u001b[0m \u001b[0mKeyError\u001b[0m \u001b[0;32mas\u001b[0m \u001b[0merr\u001b[0m\u001b[0;34m:\u001b[0m\u001b[0;34m\u001b[0m\u001b[0;34m\u001b[0m\u001b[0m\n\u001b[0;32m-> 3082\u001b[0;31m                 \u001b[0;32mraise\u001b[0m \u001b[0mKeyError\u001b[0m\u001b[0;34m(\u001b[0m\u001b[0mkey\u001b[0m\u001b[0;34m)\u001b[0m \u001b[0;32mfrom\u001b[0m \u001b[0merr\u001b[0m\u001b[0;34m\u001b[0m\u001b[0;34m\u001b[0m\u001b[0m\n\u001b[0m\u001b[1;32m   3083\u001b[0m \u001b[0;34m\u001b[0m\u001b[0m\n\u001b[1;32m   3084\u001b[0m         \u001b[0;32mif\u001b[0m \u001b[0mtolerance\u001b[0m \u001b[0;32mis\u001b[0m \u001b[0;32mnot\u001b[0m \u001b[0;32mNone\u001b[0m\u001b[0;34m:\u001b[0m\u001b[0;34m\u001b[0m\u001b[0;34m\u001b[0m\u001b[0m\n",
      "\u001b[0;31mKeyError\u001b[0m: 'site_id_int'"
     ]
    }
   ],
   "source": [
    "len(ctr_df['site_id_int'].unique())"
   ]
  },
  {
   "cell_type": "code",
   "execution_count": 9,
   "id": "c5aa345f",
   "metadata": {},
   "outputs": [],
   "source": [
    "def convert_obj_to_int(self):\n",
    "    \n",
    "    object_list_columns = self.columns\n",
    "    object_list_dtypes = self.dtypes\n",
    "    new_col_suffix = '_int'\n",
    "    for index in range(0,len(object_list_columns)):\n",
    "        if object_list_dtypes[index] == object :\n",
    "            self[object_list_columns[index]+new_col_suffix] = self[object_list_columns[index]].map( lambda  x: hash(x))\n",
    "            self.drop([object_list_columns[index]],inplace=True,axis=1)\n",
    "    return self\n",
    "ctr_df = convert_obj_to_int(ctr_df)"
   ]
  },
  {
   "cell_type": "code",
   "execution_count": 10,
   "id": "f912c39d",
   "metadata": {},
   "outputs": [
    {
     "data": {
      "text/html": [
       "<div>\n",
       "<style scoped>\n",
       "    .dataframe tbody tr th:only-of-type {\n",
       "        vertical-align: middle;\n",
       "    }\n",
       "\n",
       "    .dataframe tbody tr th {\n",
       "        vertical-align: top;\n",
       "    }\n",
       "\n",
       "    .dataframe thead th {\n",
       "        text-align: right;\n",
       "    }\n",
       "</style>\n",
       "<table border=\"1\" class=\"dataframe\">\n",
       "  <thead>\n",
       "    <tr style=\"text-align: right;\">\n",
       "      <th></th>\n",
       "      <th>id</th>\n",
       "      <th>click</th>\n",
       "      <th>hour</th>\n",
       "      <th>C1</th>\n",
       "      <th>banner_pos</th>\n",
       "      <th>device_type</th>\n",
       "      <th>device_conn_type</th>\n",
       "      <th>C14</th>\n",
       "      <th>C15</th>\n",
       "      <th>C16</th>\n",
       "      <th>...</th>\n",
       "      <th>C21</th>\n",
       "      <th>site_id_int</th>\n",
       "      <th>site_domain_int</th>\n",
       "      <th>site_category_int</th>\n",
       "      <th>app_id_int</th>\n",
       "      <th>app_domain_int</th>\n",
       "      <th>app_category_int</th>\n",
       "      <th>device_id_int</th>\n",
       "      <th>device_ip_int</th>\n",
       "      <th>device_model_int</th>\n",
       "    </tr>\n",
       "  </thead>\n",
       "  <tbody>\n",
       "    <tr>\n",
       "      <th>32951389</th>\n",
       "      <td>9.033480e+18</td>\n",
       "      <td>0</td>\n",
       "      <td>14102903</td>\n",
       "      <td>1005</td>\n",
       "      <td>1</td>\n",
       "      <td>1</td>\n",
       "      <td>0</td>\n",
       "      <td>22682</td>\n",
       "      <td>320</td>\n",
       "      <td>50</td>\n",
       "      <td>...</td>\n",
       "      <td>221</td>\n",
       "      <td>-574152778482578915</td>\n",
       "      <td>-4260214776920946622</td>\n",
       "      <td>7636097682906917383</td>\n",
       "      <td>-1480500100820855693</td>\n",
       "      <td>3922714347219845400</td>\n",
       "      <td>-8756571902273326536</td>\n",
       "      <td>6508355184791852694</td>\n",
       "      <td>-535771320326381727</td>\n",
       "      <td>8429608687452957186</td>\n",
       "    </tr>\n",
       "    <tr>\n",
       "      <th>3607488</th>\n",
       "      <td>6.498505e+18</td>\n",
       "      <td>0</td>\n",
       "      <td>14102118</td>\n",
       "      <td>1005</td>\n",
       "      <td>0</td>\n",
       "      <td>1</td>\n",
       "      <td>3</td>\n",
       "      <td>20476</td>\n",
       "      <td>320</td>\n",
       "      <td>50</td>\n",
       "      <td>...</td>\n",
       "      <td>61</td>\n",
       "      <td>-1275714944942969344</td>\n",
       "      <td>-3476313954168075669</td>\n",
       "      <td>4409522017531906966</td>\n",
       "      <td>-3153303710053824062</td>\n",
       "      <td>283928479043569290</td>\n",
       "      <td>3217254490128602325</td>\n",
       "      <td>6508355184791852694</td>\n",
       "      <td>1738942074052680637</td>\n",
       "      <td>3503880960019725247</td>\n",
       "    </tr>\n",
       "    <tr>\n",
       "      <th>21348848</th>\n",
       "      <td>1.528705e+19</td>\n",
       "      <td>0</td>\n",
       "      <td>14102609</td>\n",
       "      <td>1005</td>\n",
       "      <td>0</td>\n",
       "      <td>1</td>\n",
       "      <td>0</td>\n",
       "      <td>15701</td>\n",
       "      <td>320</td>\n",
       "      <td>50</td>\n",
       "      <td>...</td>\n",
       "      <td>79</td>\n",
       "      <td>-6420787640121021041</td>\n",
       "      <td>7113269964598871371</td>\n",
       "      <td>-235248108937876810</td>\n",
       "      <td>-1480500100820855693</td>\n",
       "      <td>3922714347219845400</td>\n",
       "      <td>-8756571902273326536</td>\n",
       "      <td>6508355184791852694</td>\n",
       "      <td>5029152721064528331</td>\n",
       "      <td>3272922687481817803</td>\n",
       "    </tr>\n",
       "    <tr>\n",
       "      <th>18426518</th>\n",
       "      <td>7.694841e+18</td>\n",
       "      <td>0</td>\n",
       "      <td>14102513</td>\n",
       "      <td>1010</td>\n",
       "      <td>1</td>\n",
       "      <td>4</td>\n",
       "      <td>3</td>\n",
       "      <td>22406</td>\n",
       "      <td>320</td>\n",
       "      <td>50</td>\n",
       "      <td>...</td>\n",
       "      <td>108</td>\n",
       "      <td>-1275714944942969344</td>\n",
       "      <td>-3476313954168075669</td>\n",
       "      <td>4409522017531906966</td>\n",
       "      <td>-5068323476712789668</td>\n",
       "      <td>3922714347219845400</td>\n",
       "      <td>6608477802293886775</td>\n",
       "      <td>-6766788141445986186</td>\n",
       "      <td>3606392178814691136</td>\n",
       "      <td>-4632400661124051668</td>\n",
       "    </tr>\n",
       "    <tr>\n",
       "      <th>11666418</th>\n",
       "      <td>9.018048e+18</td>\n",
       "      <td>0</td>\n",
       "      <td>14102312</td>\n",
       "      <td>1002</td>\n",
       "      <td>0</td>\n",
       "      <td>0</td>\n",
       "      <td>0</td>\n",
       "      <td>6992</td>\n",
       "      <td>320</td>\n",
       "      <td>50</td>\n",
       "      <td>...</td>\n",
       "      <td>32</td>\n",
       "      <td>-1275714944942969344</td>\n",
       "      <td>-3476313954168075669</td>\n",
       "      <td>4409522017531906966</td>\n",
       "      <td>3048485068440804933</td>\n",
       "      <td>3922714347219845400</td>\n",
       "      <td>-8756571902273326536</td>\n",
       "      <td>4535455687512165845</td>\n",
       "      <td>-3048930143223508889</td>\n",
       "      <td>7305685590751876093</td>\n",
       "    </tr>\n",
       "  </tbody>\n",
       "</table>\n",
       "<p>5 rows × 24 columns</p>\n",
       "</div>"
      ],
      "text/plain": [
       "                    id  click      hour    C1  banner_pos  device_type  \\\n",
       "32951389  9.033480e+18      0  14102903  1005           1            1   \n",
       "3607488   6.498505e+18      0  14102118  1005           0            1   \n",
       "21348848  1.528705e+19      0  14102609  1005           0            1   \n",
       "18426518  7.694841e+18      0  14102513  1010           1            4   \n",
       "11666418  9.018048e+18      0  14102312  1002           0            0   \n",
       "\n",
       "          device_conn_type    C14  C15  C16  ...  C21          site_id_int  \\\n",
       "32951389                 0  22682  320   50  ...  221  -574152778482578915   \n",
       "3607488                  3  20476  320   50  ...   61 -1275714944942969344   \n",
       "21348848                 0  15701  320   50  ...   79 -6420787640121021041   \n",
       "18426518                 3  22406  320   50  ...  108 -1275714944942969344   \n",
       "11666418                 0   6992  320   50  ...   32 -1275714944942969344   \n",
       "\n",
       "              site_domain_int    site_category_int           app_id_int  \\\n",
       "32951389 -4260214776920946622  7636097682906917383 -1480500100820855693   \n",
       "3607488  -3476313954168075669  4409522017531906966 -3153303710053824062   \n",
       "21348848  7113269964598871371  -235248108937876810 -1480500100820855693   \n",
       "18426518 -3476313954168075669  4409522017531906966 -5068323476712789668   \n",
       "11666418 -3476313954168075669  4409522017531906966  3048485068440804933   \n",
       "\n",
       "               app_domain_int     app_category_int        device_id_int  \\\n",
       "32951389  3922714347219845400 -8756571902273326536  6508355184791852694   \n",
       "3607488    283928479043569290  3217254490128602325  6508355184791852694   \n",
       "21348848  3922714347219845400 -8756571902273326536  6508355184791852694   \n",
       "18426518  3922714347219845400  6608477802293886775 -6766788141445986186   \n",
       "11666418  3922714347219845400 -8756571902273326536  4535455687512165845   \n",
       "\n",
       "                device_ip_int     device_model_int  \n",
       "32951389  -535771320326381727  8429608687452957186  \n",
       "3607488   1738942074052680637  3503880960019725247  \n",
       "21348848  5029152721064528331  3272922687481817803  \n",
       "18426518  3606392178814691136 -4632400661124051668  \n",
       "11666418 -3048930143223508889  7305685590751876093  \n",
       "\n",
       "[5 rows x 24 columns]"
      ]
     },
     "execution_count": 10,
     "metadata": {},
     "output_type": "execute_result"
    }
   ],
   "source": [
    "ctr_df.head()"
   ]
  },
  {
   "cell_type": "code",
   "execution_count": 11,
   "id": "dc022885",
   "metadata": {},
   "outputs": [
    {
     "data": {
      "text/plain": [
       "23"
      ]
     },
     "execution_count": 11,
     "metadata": {},
     "output_type": "execute_result"
    }
   ],
   "source": [
    "features = ['C1', 'banner_pos', 'device_type', 'device_conn_type', 'C14',\n",
    "       'C15', 'C16', 'C17', 'C18', 'C19', 'C20', 'C21', 'hour_of_day',\n",
    "       'site_id_int', 'site_domain_int', 'site_category_int', 'app_id_int',\n",
    "       'app_domain_int', 'app_category_int', 'device_id_int', 'device_ip_int',\n",
    "       'device_model_int', 'day_of_week_int']\n",
    "len(features)"
   ]
  },
  {
   "cell_type": "code",
   "execution_count": 12,
   "id": "f408b1b6",
   "metadata": {},
   "outputs": [],
   "source": [
    "y = ctr_df['click']"
   ]
  },
  {
   "cell_type": "code",
   "execution_count": 13,
   "id": "ad3b6829",
   "metadata": {},
   "outputs": [
    {
     "name": "stdout",
     "output_type": "stream",
     "text": [
      "Index(['hour', 'C1', 'banner_pos', 'device_type', 'device_conn_type', 'C14',\n",
      "       'C15', 'C16', 'C17', 'C18', 'C19', 'C20', 'C21', 'site_id_int',\n",
      "       'site_domain_int', 'site_category_int', 'app_id_int', 'app_domain_int',\n",
      "       'app_category_int', 'device_id_int', 'device_ip_int',\n",
      "       'device_model_int'],\n",
      "      dtype='object')\n"
     ]
    }
   ],
   "source": [
    "X = ctr_df.drop(['click', 'id'], axis = 1)\n",
    "X.shape\n",
    "print(X.columns)"
   ]
  },
  {
   "cell_type": "code",
   "execution_count": 14,
   "id": "4836e172",
   "metadata": {},
   "outputs": [],
   "source": [
    "from sklearn.model_selection import train_test_split\n",
    "Xtrain, Xtest, ytrain, ytest = train_test_split(X, y, train_size = 0.8, test_size = 0.2, random_state = 1717)"
   ]
  },
  {
   "cell_type": "code",
   "execution_count": 15,
   "id": "10a21caf",
   "metadata": {},
   "outputs": [],
   "source": [
    "from sklearn.linear_model import LogisticRegression\n",
    "import time\n",
    "logreg = LogisticRegression(solver = 'saga')\n",
    "lr_hyper = [\n",
    "    {\n",
    "    'penalty': ['l1', 'l2', 'elasticnet', 'none'],\n",
    "    'C': [1.1,1,0.9,0.8,0.7,0.6,0.5,0.4,0.3,0.2,\n",
    "        0.1, 0.09, 0.08, 0.07, 0.06, 0.05, 0.04, 0.03, 0.02,\n",
    "        0.001, 0.0009,0.008,0.007,0.006,0.005,0.004,0.003,0.002, 0.001, 0]\n",
    "    }\n",
    "]"
   ]
  },
  {
   "cell_type": "code",
   "execution_count": 16,
   "id": "44b4d52b",
   "metadata": {},
   "outputs": [],
   "source": [
    "from sklearn.model_selection import GridSearchCV\n",
    "lr_start = time.time()\n",
    "lr_cv = GridSearchCV(logreg, lr_hyper, cv = 10)\n",
    "lr_cv.fit(Xtrain, ytrain)\n",
    "lr_end = time.time()\n",
    "bestfit_lr = lr_cv.fit(Xtrain, ytrain)\n",
    "ytest_pred = bestfit_lr.predict(Xtest)"
   ]
  },
  {
   "cell_type": "code",
   "execution_count": 17,
   "id": "2d37957c",
   "metadata": {},
   "outputs": [
    {
     "name": "stdout",
     "output_type": "stream",
     "text": [
      "tune time:  508.18187975883484\n",
      "tuned hpyerparameters :(best parameters)  {'C': 1, 'penalty': 'none'}\n",
      "accuracy : 0.8213625\n",
      "AUC 0.4998798256159857\n"
     ]
    }
   ],
   "source": [
    "from sklearn.metrics import roc_auc_score \n",
    "\n",
    "print(\"tune time: \", lr_end - lr_start)\n",
    "print(\"tuned hpyerparameters :(best parameters) \",lr_cv.best_params_)\n",
    "print(\"accuracy :\",lr_cv.best_score_)\n",
    "print(\"AUC\", roc_auc_score(ytest, ytest_pred))"
   ]
  },
  {
   "cell_type": "code",
   "execution_count": 18,
   "id": "36fb5b41",
   "metadata": {},
   "outputs": [
    {
     "name": "stdout",
     "output_type": "stream",
     "text": [
      "train accuracy: 0.8214125\n",
      "test accuracy: 0.82225\n"
     ]
    }
   ],
   "source": [
    "from sklearn.metrics import accuracy_score\n",
    "bestfit_lr = lr_cv.fit(Xtrain, ytrain)\n",
    "ytrain_pred = bestfit_lr.predict(Xtrain)\n",
    "ytest_pred = bestfit_lr.predict(Xtest)\n",
    "print(\"train accuracy:\" , accuracy_score(ytrain, ytrain_pred))\n",
    "print(\"test accuracy:\", accuracy_score(ytest, ytest_pred))"
   ]
  },
  {
   "cell_type": "code",
   "execution_count": 19,
   "id": "5f085593",
   "metadata": {},
   "outputs": [],
   "source": [
    "## Decision Trees \n",
    "from sklearn import tree\n",
    "dtree = tree.DecisionTreeClassifier(criterion = 'entropy')\n",
    "dt_hyper = [\n",
    "    {\n",
    "        'min_samples_split': [2,3,4,5],\n",
    "        'max_depth': [1,2,3,4,5,6,7,8,9,10,11,12,13,14,15,16,17,18,19,20,21,22,23,24,25,26,27,28,29,30]\n",
    "    }\n",
    "]"
   ]
  },
  {
   "cell_type": "code",
   "execution_count": 20,
   "id": "3d0511e3",
   "metadata": {},
   "outputs": [],
   "source": [
    "tree_start = time.time()\n",
    "tree_cv = GridSearchCV(dtree, dt_hyper, cv = 10)\n",
    "tree_cv.fit(Xtrain, ytrain)\n",
    "tree_end = time.time()\n",
    "bestfit_dt = tree_cv.fit(Xtrain, ytrain)\n",
    "ytest_pred = bestfit_dt.predict(Xtest)"
   ]
  },
  {
   "cell_type": "code",
   "execution_count": 21,
   "id": "4ee015e3",
   "metadata": {},
   "outputs": [
    {
     "name": "stdout",
     "output_type": "stream",
     "text": [
      "tune time:  632.8670089244843\n",
      "best parameters:  DecisionTreeClassifier(criterion='entropy', max_depth=6)\n",
      "accuracy:  0.83025\n",
      "AUC 0.5163045822428646\n"
     ]
    }
   ],
   "source": [
    "print(\"tune time: \", tree_end - tree_start)\n",
    "print(\"best parameters: \", tree_cv.best_estimator_)\n",
    "print(\"accuracy: \", tree_cv.best_score_)\n",
    "print(\"AUC\", roc_auc_score(ytest, ytest_pred))"
   ]
  },
  {
   "cell_type": "code",
   "execution_count": 24,
   "id": "ca29ed70",
   "metadata": {},
   "outputs": [
    {
     "ename": "AttributeError",
     "evalue": "'GridSearchCV' object has no attribute 'plot_tree'",
     "output_type": "error",
     "traceback": [
      "\u001b[0;31m---------------------------------------------------------------------------\u001b[0m",
      "\u001b[0;31mAttributeError\u001b[0m                            Traceback (most recent call last)",
      "\u001b[0;32m<ipython-input-24-374619829317>\u001b[0m in \u001b[0;36m<module>\u001b[0;34m\u001b[0m\n\u001b[0;32m----> 1\u001b[0;31m \u001b[0mbestfit_dt\u001b[0m\u001b[0;34m.\u001b[0m\u001b[0mplot_tree\u001b[0m\u001b[0;34m(\u001b[0m\u001b[0mclf\u001b[0m\u001b[0;34m)\u001b[0m\u001b[0;34m\u001b[0m\u001b[0;34m\u001b[0m\u001b[0m\n\u001b[0m",
      "\u001b[0;31mAttributeError\u001b[0m: 'GridSearchCV' object has no attribute 'plot_tree'"
     ]
    }
   ],
   "source": []
  },
  {
   "cell_type": "code",
   "execution_count": 25,
   "id": "82d5a2eb",
   "metadata": {},
   "outputs": [],
   "source": [
    "## KNN\n",
    "from sklearn.neighbors import KNeighborsClassifier \n",
    "knn = KNeighborsClassifier(weights = 'uniform')\n",
    "knn_hyper = [\n",
    "    {\n",
    "        'n_neighbors': [1,2,3,4,5,6,7,8,9,10,11,12,13,14,15,16,17,18,19,20,21,22,23,24,25,26,27,28,29,30], \n",
    "        'p': [1,2,3,4]\n",
    "    }\n",
    "]"
   ]
  },
  {
   "cell_type": "code",
   "execution_count": null,
   "id": "4af51026",
   "metadata": {},
   "outputs": [],
   "source": [
    "knn_start = time.time()\n",
    "knn_cv = GridSearchCV(knn, knn_hyper, cv = 10)\n",
    "knn_cv.fit(Xtrain, ytrain)\n",
    "knn_end = time.time()\n"
   ]
  },
  {
   "cell_type": "code",
   "execution_count": null,
   "id": "5d6f90ef",
   "metadata": {},
   "outputs": [],
   "source": [
    "bestfit_knn = knn_cv.fit(Xtrain, ytrain)\n",
    "ytrain_pred = bestfit_knn.predict(Xtrain)\n",
    "ytest_pred = bestfit_knn.predict(Xtest)"
   ]
  },
  {
   "cell_type": "code",
   "execution_count": null,
   "id": "1ab752d2",
   "metadata": {},
   "outputs": [],
   "source": [
    "print(\"tuning time: \", knn_end - knn_start)\n",
    "print(\"best parameters: \", knn_cv.best_estimator_)\n",
    "print(\"accuracy: \", knn_cv.best_score_)\n",
    "print(\"AUC\", roc_auc_score(ytest, ytest_pred))"
   ]
  },
  {
   "cell_type": "code",
   "execution_count": null,
   "id": "30fc551f",
   "metadata": {},
   "outputs": [],
   "source": []
  }
 ],
 "metadata": {
  "kernelspec": {
   "display_name": "Python 3",
   "language": "python",
   "name": "python3"
  },
  "language_info": {
   "codemirror_mode": {
    "name": "ipython",
    "version": 3
   },
   "file_extension": ".py",
   "mimetype": "text/x-python",
   "name": "python",
   "nbconvert_exporter": "python",
   "pygments_lexer": "ipython3",
   "version": "3.8.8"
  }
 },
 "nbformat": 4,
 "nbformat_minor": 5
}
